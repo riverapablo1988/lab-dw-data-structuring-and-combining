{
 "cells": [
  {
   "cell_type": "markdown",
   "id": "25d7736c-ba17-4aff-b6bb-66eba20fbf4e",
   "metadata": {
    "id": "25d7736c-ba17-4aff-b6bb-66eba20fbf4e"
   },
   "source": [
    "# Lab | Data Structuring and Combining Data"
   ]
  },
  {
   "cell_type": "markdown",
   "id": "a2cdfc70-44c8-478c-81e7-2bc43fdf4986",
   "metadata": {
    "id": "a2cdfc70-44c8-478c-81e7-2bc43fdf4986"
   },
   "source": [
    "## Challenge 1: Combining & Cleaning Data\n",
    "\n",
    "In this challenge, we will be working with the customer data from an insurance company, as we did in the two previous labs. The data can be found here:\n",
    "- https://raw.githubusercontent.com/data-bootcamp-v4/data/main/file1.csv\n",
    "\n",
    "But this time, we got new data, which can be found in the following 2 CSV files located at the links below.\n",
    "\n",
    "- https://raw.githubusercontent.com/data-bootcamp-v4/data/main/file2.csv\n",
    "- https://raw.githubusercontent.com/data-bootcamp-v4/data/main/file3.csv\n",
    "\n",
    "Note that you'll need to clean and format the new data.\n",
    "\n",
    "Observation:\n",
    "- One option is to first combine the three datasets and then apply the cleaning function to the new combined dataset\n",
    "- Another option would be to read the clean file you saved in the previous lab, and just clean the two new files and concatenate the three clean datasets"
   ]
  },
  {
   "cell_type": "code",
   "execution_count": null,
   "id": "492d06e3-92c7-4105-ac72-536db98d3244",
   "metadata": {
    "id": "492d06e3-92c7-4105-ac72-536db98d3244"
   },
   "outputs": [],
   "source": [
    "import pandas as pd\n",
    "\n",
    "urls = [\n",
    "    \"https://raw.githubusercontent.com/data-bootcamp-v4/data/main/file1.csv\",\n",
    "    \"https://raw.githubusercontent.com/data-bootcamp-v4/data/main/file2.csv\",\n",
    "    \"https://raw.githubusercontent.com/data-bootcamp-v4/data/main/file3.csv\",\n",
    "]\n",
    "\n",
    "def clean_columns(df: pd.DataFrame) -> pd.DataFrame:\n",
    "    df = df.copy()\n",
    "    df.columns = (\n",
    "        df.columns\n",
    "          .str.strip()\n",
    "          .str.lower()\n",
    "          .str.replace(r\"\\s+\", \"_\", regex=True)\n",
    "    )\n",
    "    df.rename(columns={\"st\": \"state\"}, inplace=True)\n",
    "    return df\n",
    "\n",
    "def standardize_values(df: pd.DataFrame) -> pd.DataFrame:\n",
    "    df = df.copy()\n",
    "\n",
    "    if \"gender\" in df.columns and pd.api.types.is_string_dtype(df[\"gender\"]):\n",
    "        df[\"gender\"] = (\n",
    "            df[\"gender\"].astype(str).str.strip().str.lower()\n",
    "              .replace({\"m\":\"M\",\"male\":\"M\",\"f\":\"F\",\"female\":\"F\",\"femal\":\"F\"})\n",
    "        )\n",
    "\n",
    "    if \"education\" in df.columns and pd.api.types.is_string_dtype(df[\"education\"]):\n",
    "        df[\"education\"] = (\n",
    "            df[\"education\"].astype(str).str.strip().str.title()\n",
    "              .replace({\"Bachelors\":\"Bachelor\"})\n",
    "        )\n",
    "\n",
    "    if \"state\" in df.columns and pd.api.types.is_string_dtype(df[\"state\"]):\n",
    "        df[\"state\"] = (\n",
    "            df[\"state\"].astype(str).str.strip().str.title()\n",
    "              .replace({\"Cali\":\"California\",\"Az\":\"Arizona\",\"Wa\":\"Washington\"})\n",
    "        )\n",
    "\n",
    "    if \"vehicle_class\" in df.columns and pd.api.types.is_string_dtype(df[\"vehicle_class\"]):\n",
    "        df[\"vehicle_class\"] = (\n",
    "            df[\"vehicle_class\"].astype(str).str.strip().str.title()\n",
    "              .replace({\"Luxury Suv\":\"Luxury\",\"Luxury Car\":\"Luxury\",\"Sports Car\":\"Luxury\"})\n",
    "        )\n",
    "\n",
    "    if \"customer_lifetime_value\" in df.columns:\n",
    "        df[\"customer_lifetime_value\"] = (\n",
    "            df[\"customer_lifetime_value\"]\n",
    "              .astype(str).str.replace(\"%\",\"\", regex=False).str.strip()\n",
    "        )\n",
    "        df[\"customer_lifetime_value\"] = pd.to_numeric(df[\"customer_lifetime_value\"], errors=\"coerce\")\n",
    "\n",
    "    if \"number_of_open_complaints\" in df.columns:\n",
    "        def middle_num(x):\n",
    "            if pd.isna(x): return pd.NA\n",
    "            x = str(x)\n",
    "            parts = x.split(\"/\")\n",
    "            if len(parts) >= 2 and parts[1].isdigit():\n",
    "                return int(parts[1])\n",
    "            try:\n",
    "                return int(float(x))\n",
    "            except:\n",
    "                return pd.NA\n",
    "        df[\"number_of_open_complaints\"] = df[\"number_of_open_complaints\"].apply(middle_num)\n",
    "\n",
    "    return df\n",
    "\n",
    "def cast_types(df: pd.DataFrame) -> pd.DataFrame:\n",
    "    df = df.copy()\n",
    "    for col in [\"income\",\"monthly_premium_auto\",\"total_claim_amount\",\"customer_lifetime_value\",\"number_of_open_complaints\"]:\n",
    "        if col in df.columns:\n",
    "            df[col] = pd.to_numeric(df[col], errors=\"coerce\")\n",
    "\n",
    "    for col in [\"effective_to_date\",\"response_date\",\"policy_start_date\"]:\n",
    "        if col in df.columns:\n",
    "            df[col] = pd.to_datetime(df[col], errors=\"coerce\")\n",
    "\n",
    "    return df\n",
    "\n",
    "def clean_df(df: pd.DataFrame) -> pd.DataFrame:\n",
    "    df = clean_columns(df)\n",
    "    df = standardize_values(df)\n",
    "    df = cast_types(df)\n",
    "    return df\n",
    "\n",
    "frames = [pd.read_csv(u) for u in urls]\n",
    "raw_combined = pd.concat(frames, axis=0, ignore_index=True)\n",
    "\n",
    "df_clean = clean_df(raw_combined)\n",
    "\n",
    "df_clean = df_clean.drop_duplicates().reset_index(drop=True)\n",
    "\n",
    "print(df_clean.shape)\n",
    "print(df_clean.dtypes.head(13))\n",
    "df_clean.head(5)"
   ]
  },
  {
   "cell_type": "markdown",
   "id": "31b8a9e7-7db9-4604-991b-ef6771603e57",
   "metadata": {
    "id": "31b8a9e7-7db9-4604-991b-ef6771603e57"
   },
   "source": [
    "# Challenge 2: Structuring Data"
   ]
  },
  {
   "cell_type": "markdown",
   "id": "a877fd6d-7a0c-46d2-9657-f25036e4ca4b",
   "metadata": {
    "id": "a877fd6d-7a0c-46d2-9657-f25036e4ca4b"
   },
   "source": [
    "In this challenge, we will continue to work with customer data from an insurance company, but we will use a dataset with more columns, called marketing_customer_analysis.csv, which can be found at the following link:\n",
    "\n",
    "https://raw.githubusercontent.com/data-bootcamp-v4/data/main/marketing_customer_analysis_clean.csv\n",
    "\n",
    "This dataset contains information such as customer demographics, policy details, vehicle information, and the customer's response to the last marketing campaign. Our goal is to explore and analyze this data by performing data cleaning, formatting, and structuring."
   ]
  },
  {
   "cell_type": "code",
   "execution_count": null,
   "id": "aa10d9b0-1c27-4d3f-a8e4-db6ab73bfd26",
   "metadata": {
    "id": "aa10d9b0-1c27-4d3f-a8e4-db6ab73bfd26"
   },
   "outputs": [],
   "source": [
    "import pandas as pd\n",
    "\n",
    "url = \"https://raw.githubusercontent.com/data-bootcamp-v4/data/main/marketing_customer_analysis_clean.csv\"\n",
    "df = pd.read_csv(url)\n",
    "\n",
    "df.head(3)"
   ]
  },
  {
   "cell_type": "code",
   "execution_count": 7,
   "id": "c83c13da",
   "metadata": {},
   "outputs": [
    {
     "name": "stdout",
     "output_type": "stream",
     "text": [
      "Total revenue by Sales Channel:\n",
      "               total_claim_amount\n",
      "sales_channel                    \n",
      "Agent                  1810226.82\n",
      "Branch                 1301204.00\n",
      "Call Center             926600.82\n",
      "Web                     706600.04\n"
     ]
    }
   ],
   "source": [
    "pivot_sales = df.pivot_table(\n",
    "    index='sales_channel',\n",
    "    values='total_claim_amount',\n",
    "    aggfunc='sum'\n",
    ").round(2)\n",
    "\n",
    "# Ordenar descendente por ingresos\n",
    "pivot_sales = pivot_sales.sort_values(by='total_claim_amount', ascending=False)\n",
    "\n",
    "print(\"Total revenue by Sales Channel:\")\n",
    "print(pivot_sales)"
   ]
  },
  {
   "cell_type": "markdown",
   "id": "df35fd0d-513e-4e77-867e-429da10a9cc7",
   "metadata": {
    "id": "df35fd0d-513e-4e77-867e-429da10a9cc7"
   },
   "source": [
    "1. You work at the marketing department and you want to know which sales channel brought the most sales in terms of total revenue. Using pivot, create a summary table showing the total revenue for each sales channel (branch, call center, web, and mail).\n",
    "Round the total revenue to 2 decimal points.  Analyze the resulting table to draw insights."
   ]
  },
  {
   "cell_type": "markdown",
   "id": "640993b2-a291-436c-a34d-a551144f8196",
   "metadata": {
    "id": "640993b2-a291-436c-a34d-a551144f8196"
   },
   "source": [
    "2. Create a pivot table that shows the average customer lifetime value per gender and education level. Analyze the resulting table to draw insights."
   ]
  },
  {
   "cell_type": "markdown",
   "id": "32c7f2e5-3d90-43e5-be33-9781b6069198",
   "metadata": {
    "id": "32c7f2e5-3d90-43e5-be33-9781b6069198"
   },
   "source": [
    "## Bonus\n",
    "\n",
    "You work at the customer service department and you want to know which months had the highest number of complaints by policy type category. Create a summary table showing the number of complaints by policy type and month.\n",
    "Show it in a long format table."
   ]
  },
  {
   "cell_type": "markdown",
   "id": "e3d09a8f-953c-448a-a5f8-2e5a8cca7291",
   "metadata": {
    "id": "e3d09a8f-953c-448a-a5f8-2e5a8cca7291"
   },
   "source": [
    "*In data analysis, a long format table is a way of structuring data in which each observation or measurement is stored in a separate row of the table. The key characteristic of a long format table is that each column represents a single variable, and each row represents a single observation of that variable.*\n",
    "\n",
    "*More information about long and wide format tables here: https://www.statology.org/long-vs-wide-data/*"
   ]
  },
  {
   "cell_type": "code",
   "execution_count": null,
   "id": "3a069e0b-b400-470e-904d-d17582191be4",
   "metadata": {
    "id": "3a069e0b-b400-470e-904d-d17582191be4"
   },
   "outputs": [],
   "source": [
    "import pandas as pd\n",
    "\n",
    "url = \"https://raw.githubusercontent.com/data-bootcamp-v4/data/main/marketing_customer_analysis_clean.csv\"\n",
    "df = pd.read_csv(url)\n",
    "\n",
    "df.head(3)"
   ]
  },
  {
   "cell_type": "code",
   "execution_count": null,
   "id": "8cbacc08",
   "metadata": {},
   "outputs": [],
   "source": [
    "df[\"effective_to_date\"] = pd.to_datetime(df[\"effective_to_date\"], errors=\"coerce\")\n",
    "\n",
    "df[\"month\"] = df[\"effective_to_date\"].dt.month_name()\n",
    "\n",
    "df[[\"effective_to_date\", \"month\"]].head()"
   ]
  },
  {
   "cell_type": "code",
   "execution_count": null,
   "id": "4c813f77",
   "metadata": {},
   "outputs": [],
   "source": [
    "df[\"number_of_open_complaints\"] = df[\"number_of_open_complaints\"].fillna(0)\n",
    "\n",
    "complaints_summary = (\n",
    "    df.pivot_table(\n",
    "        index=\"policy_type\",\n",
    "        columns=\"month\",\n",
    "        values=\"number_of_open_complaints\",\n",
    "        aggfunc=\"sum\"\n",
    "    )\n",
    ")\n",
    "\n",
    "complaints_summary.head()"
   ]
  },
  {
   "cell_type": "code",
   "execution_count": null,
   "id": "a0f2f16c",
   "metadata": {},
   "outputs": [],
   "source": [
    "complaints_long = complaints_summary.reset_index().melt(\n",
    "    id_vars=\"policy_type\",\n",
    "    var_name=\"month\",\n",
    "    value_name=\"total_complaints\"\n",
    ")\n",
    "\n",
    "complaints_long.head(5)"
   ]
  }
 ],
 "metadata": {
  "colab": {
   "provenance": []
  },
  "kernelspec": {
   "display_name": "base",
   "language": "python",
   "name": "python3"
  },
  "language_info": {
   "codemirror_mode": {
    "name": "ipython",
    "version": 3
   },
   "file_extension": ".py",
   "mimetype": "text/x-python",
   "name": "python",
   "nbconvert_exporter": "python",
   "pygments_lexer": "ipython3",
   "version": "3.13.5"
  }
 },
 "nbformat": 4,
 "nbformat_minor": 5
}
